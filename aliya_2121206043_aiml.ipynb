{
  "nbformat": 4,
  "nbformat_minor": 0,
  "metadata": {
    "colab": {
      "provenance": [],
      "authorship_tag": "ABX9TyM6ZfvHQrBgGSfuzpxrH2p8",
      "include_colab_link": true
    },
    "kernelspec": {
      "name": "python3",
      "display_name": "Python 3"
    },
    "language_info": {
      "name": "python"
    }
  },
  "cells": [
    {
      "cell_type": "markdown",
      "metadata": {
        "id": "view-in-github",
        "colab_type": "text"
      },
      "source": [
        "<a href=\"https://colab.research.google.com/github/aliya028/aliya_2121206043_aiml/blob/main/aliya_2121206043_aiml.ipynb\" target=\"_parent\"><img src=\"https://colab.research.google.com/assets/colab-badge.svg\" alt=\"Open In Colab\"/></a>"
      ]
    },
    {
      "cell_type": "code",
      "execution_count": 18,
      "metadata": {
        "colab": {
          "base_uri": "https://localhost:8080/"
        },
        "id": "IINqIIiw5MSI",
        "outputId": "31c7e4b7-9505-4909-e69b-b93e41d6fcdc"
      },
      "outputs": [
        {
          "output_type": "stream",
          "name": "stdout",
          "text": [
            "Enter the number: 65\n",
            "The reverse number is = 56\n"
          ]
        }
      ],
      "source": [
        "#to find the reverse of a number only by using arithmetic operators\n",
        "rev_num = 0\n",
        "base_pos = 1\n",
        "def findReverse(num):\n",
        "   global rev_num  #function definition\n",
        "   global base_pos   #function definition\n",
        "   if(num > 0):\n",
        "      findReverse((int)(num/10))\n",
        "      rev_num += (num % 10) * base_pos\n",
        "      base_pos *= 10\n",
        "   return rev_num\n",
        "# take inputs\n",
        "num = int(input('Enter the number: '))\n",
        "\n",
        "# calling function and display result\n",
        "print('The reverse number is =', findReverse(num))"
      ]
    },
    {
      "cell_type": "code",
      "source": [
        "#to add two numbers using bitwise operator\n",
        "def add_without_plus_operator(a, b):\n",
        "    while b != 0:\n",
        "        data = a & b\n",
        "        a = a ^ b\n",
        "        b = data << 1\n",
        "    return a\n",
        "print(add_without_plus_operator(2, 10))\n",
        "print(add_without_plus_operator(-20, 10))\n",
        "print(add_without_plus_operator(-10, -20))"
      ],
      "metadata": {
        "colab": {
          "base_uri": "https://localhost:8080/"
        },
        "id": "v3-ApNUq-3oy",
        "outputId": "1c9e2316-5b95-41bf-c8f6-fd342d68bcab"
      },
      "execution_count": 12,
      "outputs": [
        {
          "output_type": "stream",
          "name": "stdout",
          "text": [
            "12\n",
            "-10\n",
            "-30\n"
          ]
        }
      ]
    }
  ]
}